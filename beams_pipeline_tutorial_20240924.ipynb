{
 "cells": [
  {
   "cell_type": "markdown",
   "id": "cfcb7fb8",
   "metadata": {},
   "source": [
    "# Beams Pipeline Tutorial\n",
    "\n",
    "## What software do I need for this tutorial?\n",
    "\n",
    "Welcome to the Beams Pipeline Tutorial! Before beginning, you will need the Map Multi Tool, as well as the beam systematics files.\n",
    "\n",
    "To get the Map Multi Tool on your computer, go to your command line or terminal and paste in:\n",
    "\n",
    "```git clone https://github.com/CMB-S4/map_multi_tool.git```\n",
    "\n",
    "For the beam systematics, paste in:\n",
    "\n",
    "```git clone https://github.com/laurensaunders/beams_pipeline.git```\n",
    "\n",
    "You will also need ```numpy```, ```scipy```, ```matplotlib```, ```math```, and ```time```, so make sure that each of those is also installed on your computer.\n",
    "\n",
    "## Introduction to Map Multi Tool\n",
    "\n",
    "The Map Multi Tool software is a new map-based tool for studying temperature to polarization and E$\\rightarrow$B polarization leakage. The tool is useful for showing ways that CMB systematics such as crosstalk, pointing miscalibration, and optical irregularities that show up in the beams can produce this leakage.\n",
    "\n",
    "Map Multi Tool has two sample Jupyter notebooks that let you explore some of the software's functionality--both in a crosstalk implementation and in a beams implementation. Each of these notebooks has a simple model of the instrument scenario and walks through how to find the leakage spectra.\n",
    "\n",
    "## Beam Pipeline + Map Multi Tool\n",
    "\n",
    "The beam pipeline is a tool that allows you to make a beam and then analyze the leakage spectra for that beam. You can use it to make a completely analytic beam simulation, or to use a real beam (from HFSS), and then analyze that beam. The beam you produce can then be used with Map Multi Tool to find the leakage spectra.\n",
    "\n",
    "Although this tutorial has pre-filled values for the beam parameters, you can try changing the values of these parameters to see what happens with different telescope designs."
   ]
  },
  {
   "cell_type": "code",
   "execution_count": null,
   "id": "e7bc857b",
   "metadata": {},
   "outputs": [],
   "source": [
    "# import useful packages\n",
    "import numpy as np\n",
    "import matplotlib.pyplot as plt\n",
    "import make_beams\n",
    "import mmt_tools"
   ]
  },
  {
   "cell_type": "markdown",
   "id": "28ae4901",
   "metadata": {},
   "source": [
    "## Analytic Beam Simulation\n",
    "\n",
    "We'll start by making and analyzing a completely simulated beam. Currently, this tool will let you make a beam with some ellipticity (you get to choose how much); other perturbations are currently not available, but may be in the future.\n",
    "\n",
    "We need to define the beam parameters, and then we use ```beams_pipeline.make_beams``` to set everything up. We'll use the ```AnalyticBeam``` class here, since we want to make a completely analytic simulated beam."
   ]
  },
  {
   "cell_type": "code",
   "execution_count": null,
   "id": "1a40d3b2",
   "metadata": {},
   "outputs": [],
   "source": [
    "analytic_beam_params = {'N': 1024, # number of pixels\n",
    "                        'pixel_size': 0.25/60., # size of pixels in degrees\n",
    "                        'beam_fwhm': 1.5, # FWHM of the beam\n",
    "                        'ellipt': 0.001, # ellipticity\n",
    "                        }\n",
    "\n",
    "abeam = make_beams.AnalyticBeam(analytic_beam_params)"
   ]
  },
  {
   "cell_type": "markdown",
   "id": "d64c97f6",
   "metadata": {},
   "source": [
    "```abeam``` now holds all of the information we need about our simulated beam. We can plot what the beam leakage looks like and make sure it looks as expected (we'll only add colorbars for the ones that we expect to show some leakage):"
   ]
  },
  {
   "cell_type": "code",
   "execution_count": null,
   "id": "7af3023a",
   "metadata": {},
   "outputs": [],
   "source": [
    "fig, ax = plt.subplots(3,3, figsize=(8,8))\n",
    "\n",
    "qq = ax[0,0].imshow(abeam.beam_matrix['QQ']) # Q->Q leakage\n",
    "ax[0,0].set_title('QQ')\n",
    "plt.colorbar(qq, ax=ax[0,0])\n",
    "\n",
    "qi = ax[1,0].imshow(abeam.beam_matrix['QI']) # Q->I leakage\n",
    "ax[1,0].set_title('QI')\n",
    "plt.colorbar(qi, ax=ax[1,0])\n",
    "\n",
    "qu = ax[2,0].imshow(abeam.beam_matrix['QU']) # Q->U leakage\n",
    "ax[2,0].set_title('QU')\n",
    "plt.colorbar(qu, ax=ax[2,0])\n",
    "\n",
    "iq = ax[0,1].imshow(abeam.beam_matrix['IQ']) # I->Q leakage\n",
    "ax[0,1].set_title('IQ')\n",
    "\n",
    "ii = ax[1,1].imshow(abeam.beam_matrix['II']) # I->I leakage\n",
    "ax[1,1].set_title('II')\n",
    "plt.colorbar(ii, ax=ax[1,1])\n",
    "\n",
    "iu = ax[2,1].imshow(abeam.beam_matrix['IU']) # I->U leakage\n",
    "ax[2,1].set_title('IU')\n",
    "\n",
    "uq = ax[0,2].imshow(abeam.beam_matrix['UQ']) # U->Q leakage\n",
    "ax[0,2].set_title('UQ')\n",
    "\n",
    "ui = ax[1,2].imshow(abeam.beam_matrix['UI']) # U->I leakage\n",
    "ax[1,2].set_title('UI')\n",
    "\n",
    "uu = ax[2,2].imshow(abeam.beam_matrix['UU']) # U->U leakage\n",
    "ax[2,2].set_title('UU')\n",
    "plt.colorbar(uu, ax=ax[2,2])\n",
    "\n",
    "plt.show()"
   ]
  },
  {
   "cell_type": "markdown",
   "id": "b23eb960",
   "metadata": {},
   "source": [
    "Next, we would like to see the leakage spectra. We'll need some information about the spectrum for the analysis, which we write into ```spectrum_params```. Then, we can find the $\\ell$ values and the leakage spectra."
   ]
  },
  {
   "cell_type": "code",
   "execution_count": null,
   "id": "3b228932",
   "metadata": {},
   "outputs": [],
   "source": [
    "spectrum_params = {'sky_decomp': [1,0,0], # IQU decomposition, usually [1,0,0]\n",
    "                   'delta_ell': 50., # spacing between ell bins\n",
    "                   'ell_max': 2500, # maximum ell value to analyze; keep at 2500 if using CMB_compare in next step\n",
    "                   'choose_normalization': 'TT', # spectrum to normalize to, usually 'TT'\n",
    "                   }\n",
    "\n",
    "ell_abeam, spectra_abeam = mmt_tools.get_mmt_leakage(abeam, spectrum_params)"
   ]
  },
  {
   "cell_type": "markdown",
   "id": "1b17643f",
   "metadata": {},
   "source": [
    "We can look at the leakage spectra on their own, or compare them to the CMB power spectra:"
   ]
  },
  {
   "cell_type": "code",
   "execution_count": null,
   "id": "55a2f848",
   "metadata": {},
   "outputs": [],
   "source": [
    "mmt_tools.make_leakage_plot(ell_abeam, spectra_abeam, 'Analytic Beam with $e=0.001$', CMB_compare=False)"
   ]
  },
  {
   "cell_type": "code",
   "execution_count": null,
   "id": "2cb1aeb9",
   "metadata": {},
   "outputs": [],
   "source": [
    "mmt_tools.make_leakage_plot(ell_abeam, spectra_abeam, 'Analytic Beam with $e=0.001$', CMB_compare=True)"
   ]
  },
  {
   "cell_type": "markdown",
   "id": "d0f45b72",
   "metadata": {},
   "source": [
    "Feel free to change the ```analytic_beam_params``` and see what happens!"
   ]
  },
  {
   "cell_type": "markdown",
   "id": "caa2caf6",
   "metadata": {},
   "source": [
    "## HFSS Beam\n",
    "\n",
    "Now that we know some of the basics of how the beams pipeline works, let's try it out with some feedhorn measurements! There are a lot more beam parameters here, because of how we need to interpret the data to make our beams, and it will take longer to run this process, but from the user side, it is very similar."
   ]
  },
  {
   "cell_type": "code",
   "execution_count": null,
   "id": "0a52e6db",
   "metadata": {},
   "outputs": [],
   "source": [
    "hbeam_params = {'fmin': 125, # lower frequency edge of the band\n",
    "                'fmax': 165, # upper frequency edge of the band\n",
    "                'numfreqs': 40, # number of frequencies in between these to analyze\n",
    "                'folder': {'I': 'hfss_iq/', # where you want to store the I & Q optimization\n",
    "                           'U': 'hfss_u/', # where you want to store the U optimization\n",
    "                          },\n",
    "                'stop_angle': 13., # feedhorn stop angle\n",
    "                'N': 1024, # number of pixels\n",
    "                'mask_params': {'cen': 44.5, # mask center\n",
    "                                'telecentricity': 0, # mask telecentricity\n",
    "                                'savename': 'mask.txt', # filename to store the mask\n",
    "                               },\n",
    "                'center_freqs': [150], # center frequency\n",
    "                'beam_fwhm': 1.5, # FWHM of the beam\n",
    "                'pixel_size': 0.25/60., # pixel size in degrees\n",
    "               }\n",
    "hbeam_params['npix'] = hbeam_params['N']\n",
    "\n",
    "hbeam = make_beams.HFSSBeam(hbeam_params) # this step is very verbose"
   ]
  },
  {
   "cell_type": "markdown",
   "id": "dcee3bd6",
   "metadata": {},
   "source": [
    "```hbeam``` now holds all of the information we need about this beam. Just like before, we can make some plots of the beam leakage and make sure it looks the way we expect it to."
   ]
  },
  {
   "cell_type": "code",
   "execution_count": null,
   "id": "d405de9a",
   "metadata": {},
   "outputs": [],
   "source": [
    "fig, ax = plt.subplots(3,3, figsize=(8,8))\n",
    "\n",
    "qq = ax[0,0].imshow(hbeam.beam_matrix['QQ']) # Q->Q leakage\n",
    "ax[0,0].set_title('QQ')\n",
    "plt.colorbar(qq, ax=ax[0,0])\n",
    "\n",
    "qi = ax[1,0].imshow(hbeam.beam_matrix['QI']) # Q->I leakage\n",
    "ax[1,0].set_title('QI')\n",
    "plt.colorbar(qi, ax=ax[1,0])\n",
    "\n",
    "qu = ax[2,0].imshow(hbeam.beam_matrix['QU']) # Q->U leakage\n",
    "ax[2,0].set_title('QU')\n",
    "plt.colorbar(qu, ax=ax[2,0])\n",
    "\n",
    "iq = ax[0,1].imshow(hbeam.beam_matrix['IQ']) # I->Q leakage\n",
    "ax[0,1].set_title('IQ')\n",
    "\n",
    "ii = ax[1,1].imshow(hbeam.beam_matrix['II']) # I->I leakage\n",
    "ax[1,1].set_title('II')\n",
    "plt.colorbar(ii, ax=ax[1,1])\n",
    "\n",
    "iu = ax[2,1].imshow(hbeam.beam_matrix['IU']) # I->U leakage\n",
    "ax[2,1].set_title('IU')\n",
    "\n",
    "uq = ax[0,2].imshow(hbeam.beam_matrix['UQ']) # U->Q leakage\n",
    "ax[0,2].set_title('UQ')\n",
    "\n",
    "ui = ax[1,2].imshow(hbeam.beam_matrix['UI']) # U->I leakage\n",
    "ax[1,2].set_title('UI')\n",
    "\n",
    "uu = ax[2,2].imshow(hbeam.beam_matrix['UU']) # U->U leakage\n",
    "ax[2,2].set_title('UU')\n",
    "plt.colorbar(uu, ax=ax[2,2])\n",
    "\n",
    "plt.show()"
   ]
  },
  {
   "cell_type": "markdown",
   "id": "83bf06a7",
   "metadata": {},
   "source": [
    "We would again like to see the leakage spectra. We'll use the same ```spectrum_params``` as before, for simplicity. Then, we can find the $\\ell$ values and the leakage spectra."
   ]
  },
  {
   "cell_type": "code",
   "execution_count": null,
   "id": "ef3332bd",
   "metadata": {},
   "outputs": [],
   "source": [
    "ell_hbeam, spectra_hbeam = mmt_tools.get_mmt_leakage(hbeam, spectrum_params)"
   ]
  },
  {
   "cell_type": "markdown",
   "id": "33003c78",
   "metadata": {},
   "source": [
    "We can look at the leakage spectra on their own, or compare them to the CMB power spectra:"
   ]
  },
  {
   "cell_type": "code",
   "execution_count": null,
   "id": "6916e1bf",
   "metadata": {},
   "outputs": [],
   "source": [
    "mmt_tools.make_leakage_plot(ell_hbeam, spectra_hbeam, 'Feedhorn Beam', CMB_compare=False)"
   ]
  },
  {
   "cell_type": "code",
   "execution_count": null,
   "id": "450695d5",
   "metadata": {},
   "outputs": [],
   "source": [
    "mmt_tools.make_leakage_plot(ell_hbeam, spectra_hbeam, 'Feedhorn Beam', CMB_compare=True)"
   ]
  },
  {
   "cell_type": "markdown",
   "id": "ce3b284e",
   "metadata": {},
   "source": [
    "## More things to do\n",
    "\n",
    "Now that you know how to use the analytic and data-based pipeline, you can try changing some parameters to see how they affect the leakage spectra. Here are some things to try:\n",
    "\n",
    "- Change the ellipticity in the analytic beam. Try values of 0.003, 0.01, and 0.03 and compare the leakage.\n",
    "- Change the ```beam_fwhm``` parameters to 3.0 to see what a larger beam would look like."
   ]
  },
  {
   "cell_type": "code",
   "execution_count": null,
   "id": "584129a5",
   "metadata": {},
   "outputs": [],
   "source": []
  }
 ],
 "metadata": {
  "kernelspec": {
   "display_name": "Python 3 (ipykernel)",
   "language": "python",
   "name": "python3"
  },
  "language_info": {
   "codemirror_mode": {
    "name": "ipython",
    "version": 3
   },
   "file_extension": ".py",
   "mimetype": "text/x-python",
   "name": "python",
   "nbconvert_exporter": "python",
   "pygments_lexer": "ipython3",
   "version": "3.9.13"
  }
 },
 "nbformat": 4,
 "nbformat_minor": 5
}
